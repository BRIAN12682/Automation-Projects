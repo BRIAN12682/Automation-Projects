{
  "nbformat": 4,
  "nbformat_minor": 0,
  "metadata": {
    "colab": {
      "provenance": [],
      "authorship_tag": "ABX9TyMX37FaojsmMRnq3Xmr5VWU",
      "include_colab_link": true
    },
    "kernelspec": {
      "name": "python3",
      "display_name": "Python 3"
    },
    "language_info": {
      "name": "python"
    }
  },
  "cells": [
    {
      "cell_type": "markdown",
      "metadata": {
        "id": "view-in-github",
        "colab_type": "text"
      },
      "source": [
        "<a href=\"https://colab.research.google.com/github/BRIAN12682/Automation-Projects/blob/main/PythonDev_py.ipynb\" target=\"_parent\"><img src=\"https://colab.research.google.com/assets/colab-badge.svg\" alt=\"Open In Colab\"/></a>"
      ]
    },
    {
      "cell_type": "code",
      "execution_count": 9,
      "metadata": {
        "colab": {
          "base_uri": "https://localhost:8080/"
        },
        "id": "brdo3qsu34dU",
        "outputId": "137bf79a-4045-4c1d-a0cd-7a7029128969"
      },
      "outputs": [
        {
          "output_type": "stream",
          "name": "stdout",
          "text": [
            "Enter your string: BriaN Is IntelligeT\n",
            "[(0, 'B'), (4, 'N'), (6, 'I'), (9, 'I'), (18, 'T')]\n"
          ]
        }
      ],
      "source": [
        "def capital_indexes(string):\n",
        "    string= s\n",
        "    return  [(i, c) for i, c in enumerate(string) if c.isupper()]\n",
        "\n",
        "s=input(\"Enter your string: \")\n",
        "print(capital_indexes(s))"
      ]
    },
    {
      "cell_type": "code",
      "source": [
        "def capital_indexes(s):\n",
        "    return [i for i, c in enumerate(s) if c.isupper()]\n",
        "\n",
        "print(capital_indexes(\"BriAn\"))  # Output: [0, 2, 4]\n"
      ],
      "metadata": {
        "colab": {
          "base_uri": "https://localhost:8080/"
        },
        "id": "MZYC7pTd4NrO",
        "outputId": "4bb84fbe-36ea-49e8-e19a-3a4b6697d17e"
      },
      "execution_count": 4,
      "outputs": [
        {
          "output_type": "stream",
          "name": "stdout",
          "text": [
            "[0, 3]\n"
          ]
        }
      ]
    },
    {
      "cell_type": "code",
      "source": [
        "def mid(s):\n",
        "    length = len(s)\n",
        "    if length % 2 == 0:\n",
        "        return \"\"\n",
        "    else:\n",
        "        middle_index = length // 2\n",
        "        return s[middle_index]\n",
        "\n",
        "\n",
        "s =input(\"Enter your string: \")\n",
        "print(mid(s))\n"
      ],
      "metadata": {
        "colab": {
          "base_uri": "https://localhost:8080/"
        },
        "id": "jUmpKvUb_ZFU",
        "outputId": "767caf86-ab20-441f-abc3-3c2f36af7d89"
      },
      "execution_count": 12,
      "outputs": [
        {
          "output_type": "stream",
          "name": "stdout",
          "text": [
            "Enter your string: bra\n",
            "r\n"
          ]
        }
      ]
    },
    {
      "cell_type": "code",
      "source": [
        "def format_number(number):\n",
        "    return \"{:,}\".format(number)\n",
        "\n",
        "number = int(input(\"Enter your non-negative integer: \"))\n",
        "print(format_number(number))\n"
      ],
      "metadata": {
        "colab": {
          "base_uri": "https://localhost:8080/"
        },
        "id": "JvRbfWjKBjxM",
        "outputId": "a3d3c12a-7005-4dee-997b-620f7f52dfb5"
      },
      "execution_count": 14,
      "outputs": [
        {
          "output_type": "stream",
          "name": "stdout",
          "text": [
            "Enter your non-negative integer12000\n",
            "12,000\n"
          ]
        }
      ]
    }
  ]
}