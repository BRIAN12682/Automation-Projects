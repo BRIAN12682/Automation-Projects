{
 "cells": [
  {
   "cell_type": "code",
   "execution_count": 1,
   "metadata": {},
   "outputs": [
    {
     "name": "stdout",
     "output_type": "stream",
     "text": [
      "Machine Learning Tutorial\n"
     ]
    }
   ],
   "source": [
    "print(\"Machine Learning Tutorial\")\n",
    "import sklearn\n",
    "\n",
    "from sklearn import svm\n",
    "from sklearn import datasets\n",
    "# Load dataset\n",
    "iris = datasets.load_iris()\n",
    "clf = svm.LinearSVC()\n",
    "# learn from the data\n",
    "clf.fit(iris.data, iris.target)\n",
    "# predict for unseen data\n",
    "clf.predict([[ 5.0,  3.6,  1.3,  0.25]])\n",
    "# Parameters of model can be changed by using the attributes ending with an underscore\n",
    "print(clf.coef_ )"
   ]
  }
 ],
 "metadata": {
  "kernelspec": {
   "display_name": "Python 3",
   "language": "python",
   "name": "python3"
  },
  "language_info": {
   "codemirror_mode": {
    "name": "ipython",
    "version": 3
   },
   "file_extension": ".py",
   "mimetype": "text/x-python",
   "name": "python",
   "nbconvert_exporter": "python",
   "pygments_lexer": "ipython3",
   "version": "3.8.10"
  },
  "orig_nbformat": 4
 },
 "nbformat": 4,
 "nbformat_minor": 2
}
