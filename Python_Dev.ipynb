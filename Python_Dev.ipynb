{
  "nbformat": 4,
  "nbformat_minor": 0,
  "metadata": {
    "colab": {
      "provenance": [],
      "authorship_tag": "ABX9TyNn1QR42kb+D1YM3jFReQRE",
      "include_colab_link": true
    },
    "kernelspec": {
      "name": "python3",
      "display_name": "Python 3"
    },
    "language_info": {
      "name": "python"
    }
  },
  "cells": [
    {
      "cell_type": "markdown",
      "metadata": {
        "id": "view-in-github",
        "colab_type": "text"
      },
      "source": [
        "<a href=\"https://colab.research.google.com/github/BRIAN12682/Automation-Projects/blob/main/Python_Dev.ipynb\" target=\"_parent\"><img src=\"https://colab.research.google.com/assets/colab-badge.svg\" alt=\"Open In Colab\"/></a>"
      ]
    },
    {
      "cell_type": "code",
      "execution_count": 5,
      "metadata": {
        "colab": {
          "base_uri": "https://localhost:8080/"
        },
        "id": "brdo3qsu34dU",
        "outputId": "c692f5ad-98df-4688-8d29-bc74eb7e00dd"
      },
      "outputs": [
        {
          "output_type": "stream",
          "name": "stdout",
          "text": [
            "Enter your string: BriAn\n",
            "[0, 3]\n"
          ]
        }
      ],
      "source": [
        "def capital_indexes(string):\n",
        "    string= s\n",
        "    return  [i for i, c in enumerate(string) if c.isupper()]\n",
        "\n",
        "s=input(\"Enter your string: \")\n",
        "print(capital_indexes(s))"
      ]
    },
    {
      "cell_type": "code",
      "source": [
        "def capital_indexes(s):\n",
        "    return [i for i, c in enumerate(s) if c.isupper()]\n",
        "\n",
        "# Test the function\n",
        "print(capital_indexes(\"BriAn\"))  # Output: [0, 2, 4]\n"
      ],
      "metadata": {
        "colab": {
          "base_uri": "https://localhost:8080/"
        },
        "id": "MZYC7pTd4NrO",
        "outputId": "4bb84fbe-36ea-49e8-e19a-3a4b6697d17e"
      },
      "execution_count": 4,
      "outputs": [
        {
          "output_type": "stream",
          "name": "stdout",
          "text": [
            "[0, 3]\n"
          ]
        }
      ]
    }
  ]
}